{
 "cells": [
  {
   "cell_type": "code",
   "execution_count": 4,
   "id": "317efe37-01e7-4de8-a5d0-6ec288eb6100",
   "metadata": {},
   "outputs": [],
   "source": [
    "import mysql.connector\n",
    "import json\n"
   ]
  },
  {
   "cell_type": "code",
   "execution_count": 5,
   "id": "3c8f8416-38e8-4393-b178-58d095986a76",
   "metadata": {},
   "outputs": [],
   "source": [
    "db = mysql.connector.connect(\n",
    "        host='localhost',\n",
    "        user='root',\n",
    "        password='Krishna@448',\n",
    "        database='projectRev'\n",
    "    )"
   ]
  },
  {
   "cell_type": "code",
   "execution_count": 6,
   "id": "f74de43e-b2e5-4e99-8eab-c975cba9b338",
   "metadata": {},
   "outputs": [],
   "source": [
    "cursor = db.cursor()"
   ]
  },
  {
   "cell_type": "code",
   "execution_count": 7,
   "id": "254aad42-e922-447b-927b-f2dde2665c75",
   "metadata": {},
   "outputs": [],
   "source": [
    "with open(\"transaction_logs.json\",'r') as g:\n",
    "    data1 = json.load(g)"
   ]
  },
  {
   "cell_type": "code",
   "execution_count": 8,
   "id": "16cd3672-fd14-4329-b113-ed2e6912726b",
   "metadata": {},
   "outputs": [],
   "source": [
    "class ProductsTable:\n",
    "    def __init__(self, cursor):\n",
    "        self.cursor = cursor\n",
    "\n",
    "    def create_table(self):\n",
    "        self.cursor.execute(\"SHOW TABLES LIKE 'products'\")\n",
    "        if not self.cursor.fetchall():\n",
    "            self.cursor.execute(\"\"\"\n",
    "                CREATE TABLE products (\n",
    "                    product_id INT PRIMARY KEY,\n",
    "                    customer_id INT NOT NULL,\n",
    "                    product_name VARCHAR(100) NOT NULL,\n",
    "                    product_category VARCHAR(100) NOT NULL,\n",
    "                    quantity int NOT NULL,\n",
    "                    price int NOT NULL\n",
    "                );\n",
    "            \"\"\")\n",
    "            print(\"Table 'products' created successfully\")\n",
    "        else:\n",
    "            print(\"Table 'products' already exists\")"
   ]
  },
  {
   "cell_type": "code",
   "execution_count": 9,
   "id": "17109bae-2d91-4a13-8bc1-a075b9df36ea",
   "metadata": {},
   "outputs": [
    {
     "name": "stdout",
     "output_type": "stream",
     "text": [
      "Table 'products' already exists\n"
     ]
    }
   ],
   "source": [
    "T3 = ProductsTable(cursor)\n",
    "T3.create_table()"
   ]
  },
  {
   "cell_type": "code",
   "execution_count": null,
   "id": "9bb0880b-4bf8-4482-a2d8-6e093d86269e",
   "metadata": {},
   "outputs": [],
   "source": [
    "cursor.execute(\"alter table products drop primary key\")"
   ]
  },
  {
   "cell_type": "code",
   "execution_count": null,
   "id": "37e76b1d-6088-464c-b195-87888e750717",
   "metadata": {},
   "outputs": [],
   "source": []
  },
  {
   "cell_type": "code",
   "execution_count": 11,
   "id": "43d90f3e-9276-4250-9ac6-f50e8b882837",
   "metadata": {},
   "outputs": [],
   "source": [
    "for item in data1:\n",
    "    val = (item['product_id'],item['customer_id'],item['product_name'],item['product_category'],item['qty'],item['price'])\n",
    "    sql = \"insert into products( product_id, customer_id, product_name, product_category, quantity, price) values(%s,%s,%s,%s,%s,%s)\"\n",
    "    cursor.execute(sql,val)\n",
    "    db.commit()"
   ]
  },
  {
   "cell_type": "code",
   "execution_count": 12,
   "id": "432e433d-3c23-4e1d-94b9-409e83c64ccc",
   "metadata": {},
   "outputs": [
    {
     "name": "stdout",
     "output_type": "stream",
     "text": [
      "(438, 3502, 'These grocerie', 'Groceries', 13, 26015)\n",
      "(453, 7940, 'Lose furnitur', 'Furniture', 28, 21742)\n",
      "(545, 6601, 'Sort sport', 'Sports', 21, 92264)\n",
      "(576, 3784, 'Grow electronic', 'Electronics', 32, 52886)\n",
      "(670, 8381, 'Consumer grocerie', 'Groceries', 15, 6285)\n",
      "(693, 5539, 'Region beaut', 'Beauty', 16, 67395)\n",
      "(763, 2598, 'Three stationer', 'Stationery', 47, 81)\n",
      "(1040, 8381, 'Main book', 'Books', 45, 82900)\n",
      "(1145, 3507, 'Across stationer', 'Stationery', 28, 35491)\n",
      "(1322, 1356, 'Short stationer', 'Stationery', 22, 30076)\n"
     ]
    }
   ],
   "source": [
    "cursor.execute(\"select * from products limit 10;\")\n",
    "result = cursor.fetchmany(size = 10)\n",
    "for i in result:\n",
    "    print(i)"
   ]
  },
  {
   "cell_type": "code",
   "execution_count": null,
   "id": "cd36ef02-09e0-408c-ba33-a4cc4ffbbf55",
   "metadata": {},
   "outputs": [],
   "source": []
  },
  {
   "cell_type": "code",
   "execution_count": null,
   "id": "80d832f0-ae9b-455c-9eb7-b5789c77eedb",
   "metadata": {},
   "outputs": [],
   "source": []
  }
 ],
 "metadata": {
  "kernelspec": {
   "display_name": "Python 3 (ipykernel)",
   "language": "python",
   "name": "python3"
  },
  "language_info": {
   "codemirror_mode": {
    "name": "ipython",
    "version": 3
   },
   "file_extension": ".py",
   "mimetype": "text/x-python",
   "name": "python",
   "nbconvert_exporter": "python",
   "pygments_lexer": "ipython3",
   "version": "3.10.1"
  }
 },
 "nbformat": 4,
 "nbformat_minor": 5
}
