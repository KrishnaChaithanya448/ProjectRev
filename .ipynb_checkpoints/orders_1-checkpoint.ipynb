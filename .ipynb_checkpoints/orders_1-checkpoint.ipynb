{
 "cells": [
  {
   "cell_type": "code",
   "execution_count": 1,
   "id": "d2644927-3335-46b4-8df0-fdde14f4046d",
   "metadata": {},
   "outputs": [],
   "source": [
    "import mysql.connector\n",
    "import json\n"
   ]
  },
  {
   "cell_type": "code",
   "execution_count": 2,
   "id": "ff2d9c96-a158-4f5a-a67a-caac9b4a8164",
   "metadata": {},
   "outputs": [],
   "source": [
    "db = mysql.connector.connect(\n",
    "        host='localhost',\n",
    "        user='root',\n",
    "        password='Krishna@448',\n",
    "        database='projectRev'\n",
    "    )"
   ]
  },
  {
   "cell_type": "code",
   "execution_count": 3,
   "id": "62fb9213-bbb2-4043-85ef-a27c0147105b",
   "metadata": {},
   "outputs": [],
   "source": [
    "cursor = db.cursor()"
   ]
  },
  {
   "cell_type": "code",
   "execution_count": 4,
   "id": "f5613c79-851e-49b7-b845-3b1e0e6e7d5d",
   "metadata": {},
   "outputs": [],
   "source": [
    "with open(\"transaction_logs.json\",'r') as g:\n",
    "    data1 = json.load(g)"
   ]
  },
  {
   "cell_type": "code",
   "execution_count": 5,
   "id": "015921d0-d03a-4f96-8523-bc8d8d2e5fe7",
   "metadata": {},
   "outputs": [],
   "source": [
    "class OrdersTable:\n",
    "    def __init__(self, cursor):\n",
    "        self.cursor = cursor\n",
    "\n",
    "    def create_table(self):\n",
    "        self.cursor.execute(\"SHOW TABLES LIKE 'orders'\")\n",
    "        if not self.cursor.fetchall():\n",
    "            self.cursor.execute(\"\"\"\n",
    "                CREATE TABLE orders (\n",
    "                    order_id INT PRIMARY KEY,\n",
    "                    customer_id INT NOT NULL,\n",
    "                    datetime DATETIME NOT NULL,\n",
    "                    ecommerce_website_name VARCHAR(100) NOT NULL\n",
    "                );\n",
    "            \"\"\")\n",
    "            print(\"Table 'orders' created successfully\")\n",
    "        else:\n",
    "            print(\"Table 'orders' already exists\")"
   ]
  },
  {
   "cell_type": "code",
   "execution_count": 6,
   "id": "4ea32abb-1ef1-4065-b52e-54243f713924",
   "metadata": {},
   "outputs": [
    {
     "name": "stdout",
     "output_type": "stream",
     "text": [
      "Table 'orders' already exists\n"
     ]
    }
   ],
   "source": [
    "T2 = OrdersTable(cursor)\n",
    "T2.create_table()"
   ]
  },
  {
   "cell_type": "code",
   "execution_count": null,
   "id": "8737168a-5262-4a20-977c-a134c9cc3095",
   "metadata": {},
   "outputs": [],
   "source": [
    "cursor.execute(\"alter table orders drop primary key\")"
   ]
  },
  {
   "cell_type": "code",
   "execution_count": null,
   "id": "97c715f2-ab42-41de-81fc-552913461102",
   "metadata": {},
   "outputs": [],
   "source": []
  },
  {
   "cell_type": "code",
   "execution_count": 5,
   "id": "c87c36f5-d79c-462c-a9e6-51241b4cfd00",
   "metadata": {},
   "outputs": [],
   "source": [
    "for item in data1:\n",
    "    val = (item['order_id'],item['customer_id'],item['datetime'],item['ecommerce_website_name'])\n",
    "    sql = \"insert into orders(order_id, customer_id, datetime, ecommerce_website_name) values(%s,%s,%s,%s)\"\n",
    "    cursor.execute(sql,val)\n",
    "    db.commit()"
   ]
  },
  {
   "cell_type": "code",
   "execution_count": 6,
   "id": "8ffae0a6-b1dc-4972-bec0-04946100d6e1",
   "metadata": {},
   "outputs": [
    {
     "name": "stdout",
     "output_type": "stream",
     "text": [
      "(1, 1731, datetime.datetime(2021, 7, 26, 20, 16, 14), 'www.bestbuy.com')\n",
      "(2, 5539, datetime.datetime(2021, 8, 25, 3, 41, 32), 'www.flipkart.com')\n",
      "(3, 3507, datetime.datetime(2024, 6, 21, 21, 39, 21), 'www.target.com')\n",
      "(4, 4826, datetime.datetime(2022, 9, 17, 13, 52, 11), 'www.amazon.in')\n",
      "(5, 6538, datetime.datetime(2022, 3, 9, 7, 58, 8), 'www.etsy.com')\n",
      "(6, 9648, datetime.datetime(2024, 5, 29, 15, 37, 37), 'www.amazon.in')\n",
      "(7, 7940, datetime.datetime(2024, 2, 11, 15, 12, 49), 'www.amazon.com')\n",
      "(8, 5798, datetime.datetime(2022, 10, 23, 23, 37, 42), 'www.walmart.com')\n",
      "(9, 5539, datetime.datetime(2021, 7, 29, 23, 16, 11), 'www.tatacliq.com')\n",
      "(10, 3937, datetime.datetime(2023, 10, 16, 18, 12, 20), 'www.amazon.com')\n"
     ]
    }
   ],
   "source": [
    "cursor.execute(\"select * from orders limit 10;\")\n",
    "result = cursor.fetchmany(size = 10)\n",
    "for i in result:\n",
    "    print(i)"
   ]
  },
  {
   "cell_type": "code",
   "execution_count": null,
   "id": "75a93963-e4b2-4071-98d5-c7937c4b7980",
   "metadata": {},
   "outputs": [],
   "source": []
  }
 ],
 "metadata": {
  "kernelspec": {
   "display_name": "Python 3 (ipykernel)",
   "language": "python",
   "name": "python3"
  },
  "language_info": {
   "codemirror_mode": {
    "name": "ipython",
    "version": 3
   },
   "file_extension": ".py",
   "mimetype": "text/x-python",
   "name": "python",
   "nbconvert_exporter": "python",
   "pygments_lexer": "ipython3",
   "version": "3.10.1"
  }
 },
 "nbformat": 4,
 "nbformat_minor": 5
}
