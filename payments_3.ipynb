{
 "cells": [
  {
   "cell_type": "code",
   "execution_count": 13,
   "id": "63604b26-3daf-4e09-a35c-81db45be2146",
   "metadata": {},
   "outputs": [],
   "source": [
    "import mysql.connector\n",
    "import json"
   ]
  },
  {
   "cell_type": "code",
   "execution_count": 14,
   "id": "0053bf79-ed0a-4d23-b483-86ca5fa559c7",
   "metadata": {},
   "outputs": [],
   "source": [
    "db = mysql.connector.connect(\n",
    "        host='localhost',\n",
    "        user='root',\n",
    "        password='Krishna@448',\n",
    "        database='projectRev'\n",
    "    )"
   ]
  },
  {
   "cell_type": "code",
   "execution_count": 15,
   "id": "a67ae571-8e96-4a51-8ecc-0bb44ee932eb",
   "metadata": {},
   "outputs": [],
   "source": [
    "cursor = db.cursor()"
   ]
  },
  {
   "cell_type": "code",
   "execution_count": 16,
   "id": "9f0bae6b-cb8a-4d08-9fce-5b410d9201bc",
   "metadata": {},
   "outputs": [],
   "source": [
    "with open(\"transaction_logs.json\",'r') as g:\n",
    "    data1 = json.load(g)"
   ]
  },
  {
   "cell_type": "code",
   "execution_count": 17,
   "id": "8e7c0ff5-4f9e-4cdd-86b9-4035bbea1922",
   "metadata": {},
   "outputs": [],
   "source": [
    "class PaymentsTable:\n",
    "    def __init__(self, cursor):\n",
    "        self.cursor = cursor\n",
    "\n",
    "    def create_table(self):\n",
    "        self.cursor.execute(\"SHOW TABLES LIKE 'payments'\")\n",
    "        if not self.cursor.fetchall():\n",
    "            self.cursor.execute(\"\"\"\n",
    "                CREATE TABLE payments (\n",
    "                    payment_txn_id VARCHAR(100),\n",
    "                    order_id INT NOT NULL,\n",
    "                    payment_type VARCHAR(100) NOT NULL,\n",
    "                    payment_txn_success VARCHAR(50) NOT NULL,\n",
    "                    failure_reason VARCHAR(100)\n",
    "                );\n",
    "            \"\"\")\n",
    "            print(\"Table 'payments' created successfully\")\n",
    "        else:\n",
    "            print(\"Table 'payments' already exists\")"
   ]
  },
  {
   "cell_type": "code",
   "execution_count": 18,
   "id": "94588b6b-020d-4713-b92f-045a744295f6",
   "metadata": {},
   "outputs": [
    {
     "name": "stdout",
     "output_type": "stream",
     "text": [
      "Table 'payments' already exists\n"
     ]
    }
   ],
   "source": [
    "T4 = PaymentsTable(cursor)\n",
    "T4.create_table()"
   ]
  },
  {
   "cell_type": "code",
   "execution_count": 20,
   "id": "9fc2546d-db1c-483a-9677-fd0404995715",
   "metadata": {},
   "outputs": [],
   "source": [
    "for item in data1:\n",
    "    val = (item['payment_txn_id'], item['order_id'], item['payment_type'], item['payment_txn_success'], item['failure_reason'])\n",
    "    sql = \"insert into payments(payment_txn_id, order_id, payment_type, payment_txn_success, failure_reason) values(%s,%s,%s,%s,%s)\"\n",
    "    cursor.execute(sql,val)\n",
    "    db.commit()"
   ]
  },
  {
   "cell_type": "code",
   "execution_count": 21,
   "id": "04cb4f6d-caac-4d18-a8a5-39ad50afe038",
   "metadata": {},
   "outputs": [
    {
     "name": "stdout",
     "output_type": "stream",
     "text": [
      "('a395e8c7', 1, 'Wallet', 'N', 'Card Expired')\n",
      "('b40791f8', 2, 'Card', 'N', 'Invalid CVV')\n",
      "('7fb6cca9', 3, 'Card', 'N', 'Blocked Card')\n",
      "('cae677f3', 4, 'Card', 'N', 'Transaction Timeout')\n",
      "('fbce1649', 5, 'Card', 'N', 'Invalid CVV')\n",
      "('ebc84512', 6, 'UPI', 'Y', '')\n",
      "('e407cea7', 7, 'Wallet', 'N', 'Invalid CVV')\n",
      "('048ee87d', 8, 'Internet Banking', 'N', 'Card Expired')\n",
      "('fa29f46d', 9, 'Wallet', 'N', 'Transaction Timeout')\n",
      "('ef2606ef', 10, 'Wallet', 'Y', '')\n"
     ]
    }
   ],
   "source": [
    "cursor.execute(\"select * from payments limit 10;\")\n",
    "result = cursor.fetchmany(size = 10)\n",
    "for i in result:\n",
    "    print(i)"
   ]
  },
  {
   "cell_type": "code",
   "execution_count": null,
   "id": "7e65ea0b-05e8-4e44-9eba-4e100aa282df",
   "metadata": {},
   "outputs": [],
   "source": []
  },
  {
   "cell_type": "code",
   "execution_count": null,
   "id": "94a52f8c-9330-4247-ae15-8419d91d68c1",
   "metadata": {},
   "outputs": [],
   "source": []
  },
  {
   "cell_type": "code",
   "execution_count": null,
   "id": "84598469-b72a-4c23-b938-cf91d0388700",
   "metadata": {},
   "outputs": [],
   "source": []
  },
  {
   "cell_type": "code",
   "execution_count": null,
   "id": "3a1a3245-74f6-4b8f-9dfb-cd7b5bf14508",
   "metadata": {},
   "outputs": [],
   "source": []
  }
 ],
 "metadata": {
  "kernelspec": {
   "display_name": "Python 3 (ipykernel)",
   "language": "python",
   "name": "python3"
  },
  "language_info": {
   "codemirror_mode": {
    "name": "ipython",
    "version": 3
   },
   "file_extension": ".py",
   "mimetype": "text/x-python",
   "name": "python",
   "nbconvert_exporter": "python",
   "pygments_lexer": "ipython3",
   "version": "3.10.1"
  }
 },
 "nbformat": 4,
 "nbformat_minor": 5
}
