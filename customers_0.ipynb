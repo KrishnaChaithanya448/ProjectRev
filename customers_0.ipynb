{
 "cells": [
  {
   "cell_type": "code",
   "execution_count": 2,
   "id": "63d58d1c-4036-4381-9075-e667ec2ee5f2",
   "metadata": {},
   "outputs": [],
   "source": [
    "import mysql.connector\n",
    "import json\n"
   ]
  },
  {
   "cell_type": "code",
   "execution_count": 3,
   "id": "b8290dc4-90ac-4242-88a8-4ef71eb1e069",
   "metadata": {},
   "outputs": [],
   "source": [
    "db = mysql.connector.connect(\n",
    "        host='localhost',\n",
    "        user='root',\n",
    "        password='Krishna@448',\n",
    "        database='projectRev'\n",
    "    )"
   ]
  },
  {
   "cell_type": "code",
   "execution_count": 8,
   "id": "50e8a8e8-7d6e-4482-ab84-2aa285b037d5",
   "metadata": {},
   "outputs": [],
   "source": [
    "cursor = db.cursor()"
   ]
  },
  {
   "cell_type": "code",
   "execution_count": 15,
   "id": "54e04e9c-b166-492b-9508-16731ab99f35",
   "metadata": {},
   "outputs": [],
   "source": [
    "with open('customers.json', 'r') as json_file1:\n",
    "    data = json.load(json_file1)\n"
   ]
  },
  {
   "cell_type": "code",
   "execution_count": 17,
   "id": "800d22b2-bc23-4daa-9f7a-5adf8f2735f1",
   "metadata": {},
   "outputs": [],
   "source": [
    "class CustomersTable:\n",
    "    def __init__(self, cursor):\n",
    "        self.cursor = cursor\n",
    "\n",
    "    def create_table(self):\n",
    "        self.cursor.execute(\"SHOW TABLES LIKE 'Customers'\")\n",
    "        if not self.cursor.fetchall():\n",
    "            self.cursor.execute(\"\"\"\n",
    "                CREATE TABLE customers (\n",
    "                    customer_id INT PRIMARY KEY,\n",
    "                    customer_name VARCHAR(100) NOT NULL,\n",
    "                    country VARCHAR(100) NOT NULL,\n",
    "                    city VARCHAR(50) NOT NULL\n",
    "                );\n",
    "            \"\"\")\n",
    "            print(\"Table 'Customers' created successfully\")\n",
    "        else:\n",
    "            print(\"Table 'Customers' already exists\")\n"
   ]
  },
  {
   "cell_type": "code",
   "execution_count": 24,
   "id": "07f93a02-65fd-445f-a840-13580463d834",
   "metadata": {},
   "outputs": [
    {
     "name": "stdout",
     "output_type": "stream",
     "text": [
      "Table 'Customers' already exists\n"
     ]
    }
   ],
   "source": [
    "T1 = CustomersTable(cursor)\n",
    "T1.create_table()"
   ]
  },
  {
   "cell_type": "code",
   "execution_count": 20,
   "id": "8d8462b4-a3a2-43df-8521-adbe835c9b27",
   "metadata": {},
   "outputs": [],
   "source": [
    "cursor.execute(\"alter table customers drop primary key\")  "
   ]
  },
  {
   "cell_type": "code",
   "execution_count": 21,
   "id": "3c57ae34-e114-4a08-8e88-0b6e99cef52a",
   "metadata": {},
   "outputs": [],
   "source": [
    "for item in data:\n",
    "    val = (item['customer_id'],item['customer_name'],item['country'],item['city'])\n",
    "    sql = \"insert into customers(customer_id, customer_name, country, city) values(%s,%s,%s,%s)\"\n",
    "    cursor.execute(sql,val)\n",
    "    db.commit()"
   ]
  },
  {
   "cell_type": "code",
   "execution_count": 23,
   "id": "d2257169-d2fb-4e40-b6fc-a5ddd8ae4284",
   "metadata": {},
   "outputs": [
    {
     "name": "stdout",
     "output_type": "stream",
     "text": [
      "(102, 'Kenneth Singh', 'Sweden', 'Davidhaven')\n",
      "(106, 'Mr. James Mendez', 'British Indian Ocean Territory (Chagos Archipelago)', 'Paulmouth')\n",
      "(109, 'Joseph Martin', 'Somalia', 'Port Vickiemouth')\n",
      "(135, 'Joann Romero', 'Timor-Leste', 'Port Raymondmouth')\n",
      "(144, 'Robert Reeves', 'Wallis and Futuna', 'Lake Jason')\n",
      "(145, 'Jasmine Dean', 'Tuvalu', 'Scotthaven')\n",
      "(147, 'Charles Becker', 'Isle of Man', 'East Cindyfurt')\n",
      "(158, 'Anthony Bowman', 'Latvia', 'Carriebury')\n",
      "(159, 'Desiree Edwards', 'Central African Republic', 'North Williammouth')\n",
      "(161, 'Kyle Lee', 'Greece', 'Jamesberg')\n"
     ]
    }
   ],
   "source": [
    "cursor.execute(\"select * from customers limit 10;\")\n",
    "result = cursor.fetchmany(size = 10)\n",
    "for i in result:\n",
    "    print(i)"
   ]
  },
  {
   "cell_type": "code",
   "execution_count": null,
   "id": "eaf92a5f-463a-4a45-ba61-6a916aa95f66",
   "metadata": {},
   "outputs": [],
   "source": []
  }
 ],
 "metadata": {
  "kernelspec": {
   "display_name": "Python 3 (ipykernel)",
   "language": "python",
   "name": "python3"
  },
  "language_info": {
   "codemirror_mode": {
    "name": "ipython",
    "version": 3
   },
   "file_extension": ".py",
   "mimetype": "text/x-python",
   "name": "python",
   "nbconvert_exporter": "python",
   "pygments_lexer": "ipython3",
   "version": "3.10.1"
  }
 },
 "nbformat": 4,
 "nbformat_minor": 5
}
