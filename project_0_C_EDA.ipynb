{
 "cells": [
  {
   "cell_type": "code",
   "execution_count": 2,
   "id": "1ff58b45-9074-4748-be53-38220a3b8566",
   "metadata": {},
   "outputs": [
    {
     "name": "stdout",
     "output_type": "stream",
     "text": [
      "     customer_id     customer_name      country           city\n",
      "0           9780      Jessica Hart   Martinique  South William\n",
      "1           9169         Amy Clark   Kazakhstan     Davisville\n",
      "2           6631  Danielle Elliott      Armenia     East Danny\n",
      "3           8772     Robin Mendoza       Uganda    Johnsonbury\n",
      "4           8913    Abigail Miller      Namibia  Wrightchester\n",
      "..           ...               ...          ...            ...\n",
      "995         6357    Jessica Castro     Dominica     Deannastad\n",
      "996          244    Cheryl Ramirez       Malawi  Martinezmouth\n",
      "997         4490   Luis Strickland        Italy     Oneilltown\n",
      "998         2984    Jennifer Kelly      Bahamas    Xavierville\n",
      "999         8760    Anthony Wilson  Switzerland      Torreston\n",
      "\n",
      "[1000 rows x 4 columns]\n"
     ]
    }
   ],
   "source": [
    "#importing json\n",
    "import json as js\n",
    "#importing pandas\n",
    "import pandas as pd\n",
    "cd = pd.read_json(\"customers.json\")\n",
    "print(cd)"
   ]
  },
  {
   "cell_type": "code",
   "execution_count": 5,
   "id": "df691865-8e07-4b30-bd5a-2e5a87d45976",
   "metadata": {},
   "outputs": [
    {
     "data": {
      "text/plain": [
       "(1000, 4)"
      ]
     },
     "execution_count": 5,
     "metadata": {},
     "output_type": "execute_result"
    }
   ],
   "source": [
    "############################################ EDA (Exploratory Data Analysis) #########################################\n",
    "\n",
    "# 1.shape of the data (shape)\n",
    "# it gives the how many number of rows and columns presented in data\n",
    "cd.shape "
   ]
  },
  {
   "cell_type": "code",
   "execution_count": 14,
   "id": "cf005e06-ce5a-421f-80dd-1dcc7f741f4d",
   "metadata": {},
   "outputs": [
    {
     "data": {
      "text/plain": [
       "['customer_id', 'customer_name', 'country', 'city']"
      ]
     },
     "execution_count": 14,
     "metadata": {},
     "output_type": "execute_result"
    }
   ],
   "source": [
    "# 2.finding the only columns in the data (columns.tolist())\n",
    "# it will gives the list of columns\n",
    "cd.columns.tolist()"
   ]
  },
  {
   "cell_type": "code",
   "execution_count": 6,
   "id": "b50eebb7-07ed-4972-9e4b-f1659c1cd372",
   "metadata": {},
   "outputs": [
    {
     "data": {
      "text/plain": [
       "customer_id      0\n",
       "customer_name    0\n",
       "country          0\n",
       "city             0\n",
       "dtype: int64"
      ]
     },
     "execution_count": 6,
     "metadata": {},
     "output_type": "execute_result"
    }
   ],
   "source": [
    "# 3.finding the nulls in data (isnull().sum())\n",
    "# it will gives the sum of nulls in columns\n",
    "cd.isnull().sum()"
   ]
  },
  {
   "cell_type": "code",
   "execution_count": 7,
   "id": "ec1b1cdc-4b8c-4830-b318-fb5b0f8da1e0",
   "metadata": {},
   "outputs": [
    {
     "name": "stdout",
     "output_type": "stream",
     "text": [
      "<class 'pandas.core.frame.DataFrame'>\n",
      "RangeIndex: 1000 entries, 0 to 999\n",
      "Data columns (total 4 columns):\n",
      " #   Column         Non-Null Count  Dtype \n",
      "---  ------         --------------  ----- \n",
      " 0   customer_id    1000 non-null   int64 \n",
      " 1   customer_name  1000 non-null   object\n",
      " 2   country        1000 non-null   object\n",
      " 3   city           1000 non-null   object\n",
      "dtypes: int64(1), object(3)\n",
      "memory usage: 31.4+ KB\n"
     ]
    }
   ],
   "source": [
    "# 4.Info of the data (info())\n",
    "# it gives the information about the data\n",
    "cd.info()"
   ]
  },
  {
   "cell_type": "code",
   "execution_count": 8,
   "id": "dbcdb570-2d0a-4202-bb3a-908873d72506",
   "metadata": {},
   "outputs": [
    {
     "data": {
      "text/plain": [
       "customer_id      1000\n",
       "customer_name     997\n",
       "country           238\n",
       "city              950\n",
       "dtype: int64"
      ]
     },
     "execution_count": 8,
     "metadata": {},
     "output_type": "execute_result"
    }
   ],
   "source": [
    "# 5.finding the how many number of unique rows in each column (nunique())\n",
    "# it will gives the count of unique rows in the each column \n",
    "cd.nunique()"
   ]
  },
  {
   "cell_type": "code",
   "execution_count": 9,
   "id": "4fd7b4ca-56f2-4a75-b140-9dec4241073e",
   "metadata": {},
   "outputs": [
    {
     "data": {
      "text/html": [
       "<div>\n",
       "<style scoped>\n",
       "    .dataframe tbody tr th:only-of-type {\n",
       "        vertical-align: middle;\n",
       "    }\n",
       "\n",
       "    .dataframe tbody tr th {\n",
       "        vertical-align: top;\n",
       "    }\n",
       "\n",
       "    .dataframe thead th {\n",
       "        text-align: right;\n",
       "    }\n",
       "</style>\n",
       "<table border=\"1\" class=\"dataframe\">\n",
       "  <thead>\n",
       "    <tr style=\"text-align: right;\">\n",
       "      <th></th>\n",
       "      <th>customer_id</th>\n",
       "      <th>customer_name</th>\n",
       "      <th>country</th>\n",
       "      <th>city</th>\n",
       "    </tr>\n",
       "  </thead>\n",
       "  <tbody>\n",
       "    <tr>\n",
       "      <th>0</th>\n",
       "      <td>9780</td>\n",
       "      <td>Jessica Hart</td>\n",
       "      <td>Martinique</td>\n",
       "      <td>South William</td>\n",
       "    </tr>\n",
       "    <tr>\n",
       "      <th>1</th>\n",
       "      <td>9169</td>\n",
       "      <td>Amy Clark</td>\n",
       "      <td>Kazakhstan</td>\n",
       "      <td>Davisville</td>\n",
       "    </tr>\n",
       "    <tr>\n",
       "      <th>2</th>\n",
       "      <td>6631</td>\n",
       "      <td>Danielle Elliott</td>\n",
       "      <td>Armenia</td>\n",
       "      <td>East Danny</td>\n",
       "    </tr>\n",
       "    <tr>\n",
       "      <th>3</th>\n",
       "      <td>8772</td>\n",
       "      <td>Robin Mendoza</td>\n",
       "      <td>Uganda</td>\n",
       "      <td>Johnsonbury</td>\n",
       "    </tr>\n",
       "    <tr>\n",
       "      <th>4</th>\n",
       "      <td>8913</td>\n",
       "      <td>Abigail Miller</td>\n",
       "      <td>Namibia</td>\n",
       "      <td>Wrightchester</td>\n",
       "    </tr>\n",
       "    <tr>\n",
       "      <th>5</th>\n",
       "      <td>3211</td>\n",
       "      <td>Jennifer Wright</td>\n",
       "      <td>Zimbabwe</td>\n",
       "      <td>New Erinbury</td>\n",
       "    </tr>\n",
       "    <tr>\n",
       "      <th>6</th>\n",
       "      <td>1211</td>\n",
       "      <td>Ricky Johnston</td>\n",
       "      <td>Belarus</td>\n",
       "      <td>North Jeremyside</td>\n",
       "    </tr>\n",
       "    <tr>\n",
       "      <th>7</th>\n",
       "      <td>9529</td>\n",
       "      <td>Brittney Chandler</td>\n",
       "      <td>Andorra</td>\n",
       "      <td>Bellside</td>\n",
       "    </tr>\n",
       "  </tbody>\n",
       "</table>\n",
       "</div>"
      ],
      "text/plain": [
       "   customer_id      customer_name     country              city\n",
       "0         9780       Jessica Hart  Martinique     South William\n",
       "1         9169          Amy Clark  Kazakhstan        Davisville\n",
       "2         6631   Danielle Elliott     Armenia        East Danny\n",
       "3         8772      Robin Mendoza      Uganda       Johnsonbury\n",
       "4         8913     Abigail Miller     Namibia     Wrightchester\n",
       "5         3211    Jennifer Wright    Zimbabwe      New Erinbury\n",
       "6         1211     Ricky Johnston     Belarus  North Jeremyside\n",
       "7         9529  Brittney Chandler     Andorra          Bellside"
      ]
     },
     "execution_count": 9,
     "metadata": {},
     "output_type": "execute_result"
    }
   ],
   "source": [
    "# 6.finding the top or head rows in a data (head(n))\n",
    "#it will returns the first n number of rows in the data\n",
    "cd.head(8)"
   ]
  },
  {
   "cell_type": "code",
   "execution_count": 10,
   "id": "574313f3-0904-4c6b-8c59-87fdfb05040b",
   "metadata": {},
   "outputs": [
    {
     "data": {
      "text/html": [
       "<div>\n",
       "<style scoped>\n",
       "    .dataframe tbody tr th:only-of-type {\n",
       "        vertical-align: middle;\n",
       "    }\n",
       "\n",
       "    .dataframe tbody tr th {\n",
       "        vertical-align: top;\n",
       "    }\n",
       "\n",
       "    .dataframe thead th {\n",
       "        text-align: right;\n",
       "    }\n",
       "</style>\n",
       "<table border=\"1\" class=\"dataframe\">\n",
       "  <thead>\n",
       "    <tr style=\"text-align: right;\">\n",
       "      <th></th>\n",
       "      <th>customer_id</th>\n",
       "      <th>customer_name</th>\n",
       "      <th>country</th>\n",
       "      <th>city</th>\n",
       "    </tr>\n",
       "  </thead>\n",
       "  <tbody>\n",
       "    <tr>\n",
       "      <th>992</th>\n",
       "      <td>9116</td>\n",
       "      <td>Jill Gordon</td>\n",
       "      <td>Thailand</td>\n",
       "      <td>Port Francesview</td>\n",
       "    </tr>\n",
       "    <tr>\n",
       "      <th>993</th>\n",
       "      <td>9332</td>\n",
       "      <td>Terry Williams</td>\n",
       "      <td>Saint Martin</td>\n",
       "      <td>Sheltonside</td>\n",
       "    </tr>\n",
       "    <tr>\n",
       "      <th>994</th>\n",
       "      <td>9617</td>\n",
       "      <td>Mary Matthews</td>\n",
       "      <td>Zimbabwe</td>\n",
       "      <td>East Marcusberg</td>\n",
       "    </tr>\n",
       "    <tr>\n",
       "      <th>995</th>\n",
       "      <td>6357</td>\n",
       "      <td>Jessica Castro</td>\n",
       "      <td>Dominica</td>\n",
       "      <td>Deannastad</td>\n",
       "    </tr>\n",
       "    <tr>\n",
       "      <th>996</th>\n",
       "      <td>244</td>\n",
       "      <td>Cheryl Ramirez</td>\n",
       "      <td>Malawi</td>\n",
       "      <td>Martinezmouth</td>\n",
       "    </tr>\n",
       "    <tr>\n",
       "      <th>997</th>\n",
       "      <td>4490</td>\n",
       "      <td>Luis Strickland</td>\n",
       "      <td>Italy</td>\n",
       "      <td>Oneilltown</td>\n",
       "    </tr>\n",
       "    <tr>\n",
       "      <th>998</th>\n",
       "      <td>2984</td>\n",
       "      <td>Jennifer Kelly</td>\n",
       "      <td>Bahamas</td>\n",
       "      <td>Xavierville</td>\n",
       "    </tr>\n",
       "    <tr>\n",
       "      <th>999</th>\n",
       "      <td>8760</td>\n",
       "      <td>Anthony Wilson</td>\n",
       "      <td>Switzerland</td>\n",
       "      <td>Torreston</td>\n",
       "    </tr>\n",
       "  </tbody>\n",
       "</table>\n",
       "</div>"
      ],
      "text/plain": [
       "     customer_id    customer_name       country              city\n",
       "992         9116      Jill Gordon      Thailand  Port Francesview\n",
       "993         9332   Terry Williams  Saint Martin       Sheltonside\n",
       "994         9617    Mary Matthews      Zimbabwe   East Marcusberg\n",
       "995         6357   Jessica Castro      Dominica        Deannastad\n",
       "996          244   Cheryl Ramirez        Malawi     Martinezmouth\n",
       "997         4490  Luis Strickland         Italy        Oneilltown\n",
       "998         2984   Jennifer Kelly       Bahamas       Xavierville\n",
       "999         8760   Anthony Wilson   Switzerland         Torreston"
      ]
     },
     "execution_count": 10,
     "metadata": {},
     "output_type": "execute_result"
    }
   ],
   "source": [
    "# 7.finding the bottom or tail rows in a data (tail(n))\n",
    "# it will returns the last n number of rows in the data\n",
    "cd.tail(8)"
   ]
  },
  {
   "cell_type": "code",
   "execution_count": 6,
   "id": "41a94722-a729-4342-8cf4-0a06eee895d0",
   "metadata": {},
   "outputs": [
    {
     "data": {
      "text/plain": [
       "0      False\n",
       "1      False\n",
       "2      False\n",
       "3      False\n",
       "4      False\n",
       "       ...  \n",
       "995    False\n",
       "996    False\n",
       "997    False\n",
       "998    False\n",
       "999    False\n",
       "Length: 1000, dtype: bool"
      ]
     },
     "execution_count": 6,
     "metadata": {},
     "output_type": "execute_result"
    }
   ],
   "source": [
    "cd.duplicated()\n"
   ]
  },
  {
   "cell_type": "code",
   "execution_count": null,
   "id": "a0c1a461-6ef0-40cc-b2e2-a243510fc5aa",
   "metadata": {},
   "outputs": [],
   "source": []
  },
  {
   "cell_type": "code",
   "execution_count": null,
   "id": "a879f98e-fa7c-4265-8d0e-26e7cf4c7bdf",
   "metadata": {},
   "outputs": [],
   "source": [
    "\n",
    "\n",
    "\n"
   ]
  },
  {
   "cell_type": "code",
   "execution_count": null,
   "id": "d2b76cea-ba87-431d-86ee-16817ee3687b",
   "metadata": {},
   "outputs": [],
   "source": []
  }
 ],
 "metadata": {
  "kernelspec": {
   "display_name": "Python 3 (ipykernel)",
   "language": "python",
   "name": "python3"
  },
  "language_info": {
   "codemirror_mode": {
    "name": "ipython",
    "version": 3
   },
   "file_extension": ".py",
   "mimetype": "text/x-python",
   "name": "python",
   "nbconvert_exporter": "python",
   "pygments_lexer": "ipython3",
   "version": "3.10.1"
  }
 },
 "nbformat": 4,
 "nbformat_minor": 5
}
